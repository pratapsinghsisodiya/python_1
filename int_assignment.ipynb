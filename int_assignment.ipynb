{
  "nbformat": 4,
  "nbformat_minor": 0,
  "metadata": {
    "colab": {
      "name": "int_assignment.ipynb",
      "provenance": [],
      "include_colab_link": true
    },
    "kernelspec": {
      "name": "python3",
      "display_name": "Python 3"
    }
  },
  "cells": [
    {
      "cell_type": "markdown",
      "metadata": {
        "id": "view-in-github",
        "colab_type": "text"
      },
      "source": [
        "<a href=\"https://colab.research.google.com/github/pratapsinghsisodiya/python_1/blob/main/int_assignment.ipynb\" target=\"_parent\"><img src=\"https://colab.research.google.com/assets/colab-badge.svg\" alt=\"Open In Colab\"/></a>"
      ]
    },
    {
      "cell_type": "code",
      "metadata": {
        "id": "8A5Jw5NR1iEI"
      },
      "source": [
        "#Declare an int value and store it in a variable. \n",
        "#Check the type and print the id of the same.\n",
        "int_1 = 3\n",
        "int_2 = 2\n",
        "output_int = (int_1 + int_2)\n",
        "print (output_int)\n",
        "print ((id(int_1)),(type(int_1)))\n",
        "print ((id(int_2)),(type(int_2)))\n",
        "print ((id(int_2)),(type(int_2)))\n",
        "\n",
        "\n",
        "\n",
        "\n",
        "\n",
        "\n",
        "\n"
      ],
      "execution_count": null,
      "outputs": []
    },
    {
      "cell_type": "code",
      "metadata": {
        "id": "jh-xEkUtW09H"
      },
      "source": [
        ""
      ],
      "execution_count": 17,
      "outputs": []
    },
    {
      "cell_type": "code",
      "metadata": {
        "id": "0YU8LFTn1rAX",
        "outputId": "fe20b783-39e1-4ff4-fe25-bea89a888ecf",
        "colab": {
          "base_uri": "https://localhost:8080/"
        }
      },
      "source": [
        "#Take one int value between 0 - 256.\n",
        "#Assign it to two different variables.\n",
        "#Check the id of both the variables. It should come same. Check why?\n",
        "# because of the object reusablity concept and c-python is a object oriented programing\n",
        "int_3 = 256\n",
        "int_4 = 256\n",
        "print ((type(int_3)),(id(int_3)))\n",
        "print ((type(int_4)),(id(int_4)))\n",
        "\n",
        "\n",
        "\n",
        "\n",
        "#Take one int value either less than -5 or greater than 256.\n",
        "#Assign it to two different variables.\n",
        "#Check the id of both the variables. It should come different.Check why?\n",
        "\n",
        "int_5 = 259\n",
        "int_6 = 259\n",
        "int_7 = -7\n",
        "int_7 = 257\n",
        "\n",
        "print ((type(int_5)),(id(int_5)))\n",
        "print ((type(int_6)),(id(int_6)))\n",
        "print ((type(int_7)),(id(int_7)))\n"
      ],
      "execution_count": 19,
      "outputs": [
        {
          "output_type": "stream",
          "text": [
            "<class 'int'> 10922656\n",
            "<class 'int'> 10922656\n",
            "<class 'int'> 140678778308240\n",
            "<class 'int'> 140678778307984\n",
            "<class 'int'> 140678778307184\n"
          ],
          "name": "stdout"
        }
      ]
    },
    {
      "cell_type": "code",
      "metadata": {
        "id": "YzEIG0ZZ1tSK",
        "outputId": "9e5e640b-8e2d-496b-8896-1f7cd7ac14b8",
        "colab": {
          "base_uri": "https://localhost:8080/"
        }
      },
      "source": [
        "#Arithmatic Operations on integers\n",
        "#Take two different intger values.\n",
        "#Store them in two different variables.\n",
        "#Do below operations on them:-\n",
        "    #Find sum of both numbers\n",
        "    #Find differce between them\n",
        "    #Find the product of both numbers.\n",
        "    #Find value after dividing first num with second number\n",
        "    #Find the remainder after dividing first number with second number\n",
        "    #Find the quotient after dividing first number with second number\n",
        "    #Find the result of first num to the power of second number.\n",
        "x = 3\n",
        "y = 2\n",
        "operator = input('')\n",
        "\n",
        "if operator == ('+'):\n",
        "    print (x+y)\n",
        "elif operator == ('-'):\n",
        "      print (x-y)\n",
        "elif operator == ('*'):\n",
        "      print (x*y)\n",
        "elif operator == ('/'):\n",
        "      print (x/y)\n",
        "elif operator == ('//'):\n",
        "      print (x//y)\n",
        "elif operator == ('%'):\n",
        "      print (x%y)\n",
        "elif operator == ('**'):\n",
        "      print (x**y)\n"
      ],
      "execution_count": 37,
      "outputs": [
        {
          "output_type": "stream",
          "text": [
            "**\n",
            "9\n"
          ],
          "name": "stdout"
        }
      ]
    },
    {
      "cell_type": "code",
      "metadata": {
        "id": "GGM7CdzA1wGn",
        "outputId": "284a2828-e33b-4e6e-b675-f66528ec6369",
        "colab": {
          "base_uri": "https://localhost:8080/"
        }
      },
      "source": [
        "#Comparison Operators on integers\n",
        "#Take two different intger values.\n",
        "#Store them in two different variables.\n",
        "#Do below operations on them:-\n",
        "    #Compare se two numbers with below operator:-\n",
        "        #Greater than, '>'\n",
        "        #Smaller than, '<'\n",
        "        #Greater than or equal to, '>='\n",
        "        #Less than or equal to, '<='\n",
        "#Observe their output(return type should be boolean)\n",
        "\n",
        "x = eval(input())\n",
        "y = eval(input()) \n",
        "comporator = input('')\n",
        "if comporator == '' :\n",
        "  print('''please enter comporator ==,=>,=<,>,<,!=''')\n",
        "  pass\n",
        "if  x == y :\n",
        "   print ('equal', (x == y))\n",
        "elif  x != y :\n",
        "  print ('not equal', (x != y))\n",
        "\n",
        "if x > y :\n",
        "  print ('greater than',(x > y))\n",
        "elif x < y :\n",
        "  print ('less than',(x < y))\n",
        "\n",
        "if x >= y :\n",
        "  print ('greater than equal',(x >= y))\n",
        "elif  x <= y:\n",
        "  print ('''less than equal''',(x <= y))\n",
        "\n",
        "\n",
        "\n",
        "\n"
      ],
      "execution_count": 40,
      "outputs": [
        {
          "output_type": "stream",
          "text": [
            "44\n",
            "55\n",
            ">=\n",
            "not equal True\n",
            "less than True\n",
            "less than equal True\n"
          ],
          "name": "stdout"
        }
      ]
    },
    {
      "cell_type": "code",
      "metadata": {
        "id": "9x904sUE1y9t",
        "outputId": "2d61dc92-4224-48fb-86c2-e7d44d22515a",
        "colab": {
          "base_uri": "https://localhost:8080/"
        }
      },
      "source": [
        "#Equality Operator\n",
        "a = 2\n",
        "b = 3\n",
        "c = 5\n",
        "d = 5\n",
        "print (a == b)\n",
        "print (c == d)\n",
        "print (c != d)\n",
        "print (a != b)\n",
        "\n",
        "\n",
        "\n",
        "\n",
        "#Take two different intger values.\n",
        "#Store them in two different variables.\n",
        "#Equuate them using equality operator (==, !=)\n",
        "#Observe the output(return type should be boolean)"
      ],
      "execution_count": 44,
      "outputs": [
        {
          "output_type": "stream",
          "text": [
            "False\n",
            "True\n",
            "False\n",
            "True\n"
          ],
          "name": "stdout"
        }
      ]
    },
    {
      "cell_type": "code",
      "metadata": {
        "id": "JmQFHUwc11S-",
        "outputId": "d2d96eed-2c38-463b-9be9-5f580092bf4a",
        "colab": {
          "base_uri": "https://localhost:8080/"
        }
      },
      "source": [
        "#Logical operators\n",
        "#Observe the output of below code\n",
        "#Cross check the output manually\n",
        "\n",
        "print(10 and 20)  \n",
        "print (bin(10))    #0b1010\n",
        "print (bin(20))    #0b10100\n",
        "# ---------------------------------------------\n",
        "#                  0b10100\n",
        "print (0b10100)              \n",
        "#----------------------------------------->Output is 20\n",
        "print(0 and 20)        #----------------------------------------->Output is 0\n",
        "print (bin(0))      #0b00000\n",
        "print (bin(20))     #0b10100\n",
        "#--------------------------------------------------------------\n",
        "                   #0b00000\n",
        "print(0b0000)                   \n",
        "\n",
        "print(20 and 0)        #----------------------------------------->Output is 0\n",
        "print(0 and 0)         #----------------------------------------->Output is 0\n",
        "print (bin(20))     #0b10100\n",
        "print (bin(0))      #0b00000\n",
        "#-------------------------------------\n",
        "                   #0b00000\n",
        "print(0b00000)\n",
        "\n",
        "\n",
        "print(10 or 20)        #----------------------------------------->Output is 10\n",
        "#bin of 10 =0b10100\n",
        "#bin of 20 =0b10100\n",
        "#----------------------------\n",
        "            #0b010100\n",
        "print (0b10100)            \n",
        "\n",
        "print(0 or 20)         #----------------------------------------->Output is 20\n",
        "print(20 or 0)         #----------------------------------------->Output is 20\n",
        "print(0 or 0)          #----------------------------------------->Output is 0\n",
        "\n",
        "print(not 10)          #----------------------------------------->Output is False\n",
        "print(not 0)           #----------------------------------------->Output is True"
      ],
      "execution_count": 58,
      "outputs": [
        {
          "output_type": "stream",
          "text": [
            "20\n",
            "0b1010\n",
            "0b10100\n",
            "20\n",
            "0\n",
            "0b0\n",
            "0b10100\n",
            "0\n",
            "0\n",
            "0\n",
            "0b10100\n",
            "0b0\n",
            "0\n",
            "10\n",
            "20\n",
            "20\n",
            "20\n",
            "0\n",
            "False\n",
            "True\n"
          ],
          "name": "stdout"
        }
      ]
    },
    {
      "cell_type": "code",
      "metadata": {
        "id": "-0tvoulX14Hi"
      },
      "source": [
        "#Bitwise Operators\n",
        "#Do below operations on the values provided below:-\n",
        "    #Bitwise and(&) -----------------------------------------> 10, 20   -------> Output is 0\n",
        "    #Bitwise or(|)  -----------------------------------------> 10, 20   -------> Output is 30\n",
        "    #Bitwise(^)     -----------------------------------------> 10, 20   -------> Output is 30\n",
        "    #Bitwise negation(~) ------------------------------------> 10       -------> Output is -11\n",
        "    #Bitwise left shift  ------------------------------------> 10,2     -------> Output is 40\n",
        "    #Bitwise right shift ------------------------------------> 10,2     -------> Output is 2\n",
        "#Cross check the output manually"
      ],
      "execution_count": null,
      "outputs": []
    },
    {
      "cell_type": "code",
      "metadata": {
        "id": "YCcx-Qx016hg",
        "outputId": "64a917ba-4b5c-42c6-9a86-418022fa710a",
        "colab": {
          "base_uri": "https://localhost:8080/"
        }
      },
      "source": [
        "#What is the output of expression inside print statement. Cross check before running the program.\n",
        "a = 10\n",
        "b = 10\n",
        "print(a is b)          #True or False?\n",
        "print(a is not b)      #True or False?\n",
        "print (id(a))\n",
        "print (id(b))\n",
        "\n",
        "a = 1000\n",
        "b = 1000\n",
        "print(a is b)          #True or False? no is not in between -5to256 so object\n",
        "                        #reusablity concept is  nofollow by them so in c pyhon object oriented\n",
        "print(a is not b)      #True or False?\n",
        "\n",
        "print (id (a))\n",
        "print (id(b))"
      ],
      "execution_count": 61,
      "outputs": [
        {
          "output_type": "stream",
          "text": [
            "True\n",
            "False\n",
            "10914784\n",
            "10914784\n",
            "False\n",
            "True\n",
            "139969123018736\n",
            "139969123019952\n"
          ],
          "name": "stdout"
        }
      ]
    },
    {
      "cell_type": "code",
      "metadata": {
        "id": "Un2To3XN1_Il",
        "outputId": "45896ede-8844-49f2-c984-d8d3d5e51793",
        "colab": {
          "base_uri": "https://localhost:8080/"
        }
      },
      "source": [
        "#What is the output of expression inside print statement. Cross check before running the program.\n",
        "print(10+(10*32)//2**5&20+(~(-10))<<2)\n",
        "# out put in the following precedence\n",
        "# Operator\tDescription\n",
        "# **\t      Exponentiation (raise to the power)\n",
        "# ~ + -\t    Complement, unary plus and minus (method names for the last two are +@ and -@)\n",
        "# * / % //\tMultiply, divide, modulo and floor division\n",
        "# + -\t      Addition and subtraction\n",
        "# >> <<\t    Right and left bitwise shift\n",
        "# &\tBitwise 'AND'td>\n",
        "# ^ |\t      Bitwise exclusive `OR' and regular `OR'\n",
        "# <= < > >=\tComparison operators\n",
        "# <> == !=\tEquality operators\n",
        "# = %= /= //= -= += *= **=\tAssignment operators\n",
        "# is is not\tIdentity operators\n",
        "# in not in\tMembership operators\n",
        "# not or and\tLogical operators"
      ],
      "execution_count": 62,
      "outputs": [
        {
          "output_type": "stream",
          "text": [
            "20\n"
          ],
          "name": "stdout"
        }
      ]
    },
    {
      "cell_type": "code",
      "metadata": {
        "id": "kGRb5RMd1_1I",
        "outputId": "d94405c0-fab0-4cd1-ebcc-e04057b4c7a7",
        "colab": {
          "base_uri": "https://localhost:8080/"
        }
      },
      "source": [
        "#Membership operation\n",
        "#in, not in are two membership operators and it returns boolean value\n",
        "\n",
        "print('2' in 'Python2.7.8')\n",
        "print(10 in [10,10.20,10+20j,'Python'])\n",
        "print(10 in (10,10.20,10+20j,'Python'))\n",
        "print(2 in {1,2,3})\n",
        "print(3 in {1:100, 2:200, 3:300})\n",
        "print(10 in range(20))"
      ],
      "execution_count": 63,
      "outputs": [
        {
          "output_type": "stream",
          "text": [
            "True\n",
            "True\n",
            "True\n",
            "True\n",
            "True\n",
            "True\n"
          ],
          "name": "stdout"
        }
      ]
    },
    {
      "cell_type": "code",
      "metadata": {
        "id": "Es7iSvL92B9W"
      },
      "source": [
        "#An integer can be represented in binary, octal or hexadecimal form.\n",
        "#Declare one binary, one octal and one hexadecimal value and store them in three different variables.\n",
        "#Convert 9876 to its binary, octal and hexadecimal equivalent and print their corresponding value."
      ],
      "execution_count": 64,
      "outputs": []
    },
    {
      "cell_type": "code",
      "metadata": {
        "id": "Hm0r03lH2E0i",
        "outputId": "3716aeaf-9d1f-4d6d-f76c-36bd8194e740",
        "colab": {
          "base_uri": "https://localhost:8080/"
        }
      },
      "source": [
        "#What will be the outut of following:-\n",
        "a = 0b1010000\n",
        "print(a)\n",
        "\n",
        "b = 0o7436\n",
        "print(b)\n",
        "\n",
        "c = 0xfade\n",
        "print(c)\n",
        "\n",
        "print(bin(80))\n",
        "\n",
        "print(oct(3870))\n",
        "\n",
        "print(hex(64222))\n",
        "\n",
        "print(bin(0b1010000))\n",
        "\n",
        "print(bin(0xfade))\n",
        "\n",
        "print(oct(0xfade))\n",
        "\n",
        "print(oct(0o7436))\n",
        "\n",
        "print(hex(0b1010000))\n",
        "\n",
        "print(hex(0xfade))"
      ],
      "execution_count": 65,
      "outputs": [
        {
          "output_type": "stream",
          "text": [
            "80\n",
            "3870\n",
            "64222\n",
            "0b1010000\n",
            "0o7436\n",
            "0xfade\n",
            "0b1010000\n",
            "0b1111101011011110\n",
            "0o175336\n",
            "0o7436\n",
            "0x50\n",
            "0xfade\n"
          ],
          "name": "stdout"
        }
      ]
    }
  ]
}